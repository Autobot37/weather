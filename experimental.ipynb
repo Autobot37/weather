{
 "cells": [
  {
   "cell_type": "code",
   "execution_count": null,
   "id": "f0b9b236",
   "metadata": {},
   "outputs": [],
   "source": []
  },
  {
   "cell_type": "code",
   "execution_count": 2,
   "id": "1798832e",
   "metadata": {},
   "outputs": [
    {
     "name": "stdout",
     "output_type": "stream",
     "text": [
      "Min value: 0.0, Max value: 168.0\n"
     ]
    }
   ],
   "source": [
    "path = \"/home/vatsal/NWM/CasCast/pixel_data/valid_2h/vil-2019-SEVIR_VIL_RANDOMEVENTS_2019_0901_1231-3-0.npy\"\n",
    "import numpy as np\n",
    "data = np.load(path, mmap_mode='r')\n",
    "min_val = np.min(data)\n",
    "max_val = np.max(data)\n",
    "print(f\"Min value: {min_val}, Max value: {max_val}\")"
   ]
  },
  {
   "cell_type": "code",
   "execution_count": 1,
   "id": "9118e791",
   "metadata": {},
   "outputs": [
    {
     "data": {
      "text/plain": [
       "55.25299974344671"
      ]
     },
     "execution_count": 1,
     "metadata": {},
     "output_type": "execute_result"
    }
   ],
   "source": [
    "def get_folder_size_gb(folder_path):\n",
    "    import os\n",
    "    total_size = 0\n",
    "    for dirpath, dirnames, filenames in os.walk(folder_path):\n",
    "        for f in filenames:\n",
    "            fp = os.path.join(dirpath, f)\n",
    "            total_size += os.path.getsize(fp)\n",
    "    return total_size / (1024 ** 3)  # Convert bytes to GB\n",
    "get_folder_size_gb(\"/home/vatsal/NWM/earth-forecasting-transformer/datasets/sevir/data/vil/2019\")"
   ]
  },
  {
   "cell_type": "code",
   "execution_count": 8,
   "id": "27b76417",
   "metadata": {},
   "outputs": [],
   "source": [
    "path = \"/home/vatsal/NWM/CasCast/pixel_data\"\n",
    "all_files = []\n",
    "import os\n",
    "for dirpath, dirnames, filenames in os.walk(path):\n",
    "    for f in filenames:\n",
    "        if f.endswith('.npy'):\n",
    "            all_files.append(os.path.join(dirpath, f))\n",
    "ranges = dict()\n",
    "for file in all_files:\n",
    "    # print(file)\n",
    "    base = file.split('.')[-2]\n",
    "    idx = base.split('-')[-2]\n",
    "    year = base.split('-')[-3].split('_')[-3]\n",
    "    month = base.split('-')[-3].split('_')[-2]\n",
    "    ranges[year + \" \" + month] = ranges.get(year + \" \" + month, [])\n",
    "    ranges[year + \" \" + month].append(idx)\n"
   ]
  },
  {
   "cell_type": "code",
   "execution_count": 10,
   "id": "850b2a82",
   "metadata": {},
   "outputs": [
    {
     "name": "stdout",
     "output_type": "stream",
     "text": [
      "key 2019 0901\n",
      "min 0 max 999\n",
      "key 2019 0101\n",
      "min 0 max 999\n",
      "key 2019 0701\n",
      "min 0 max 99\n",
      "key 2019 0501\n",
      "min 0 max 999\n"
     ]
    }
   ],
   "source": [
    "for k, v in ranges.items():\n",
    "    print(\"key\", k)\n",
    "    min_idx = min(v)\n",
    "    max_idx = max(v)\n",
    "    print(\"min\", min_idx, \"max\", max_idx)"
   ]
  },
  {
   "cell_type": "code",
   "execution_count": 8,
   "id": "ce19ea0e",
   "metadata": {},
   "outputs": [],
   "source": [
    "data_dir = \"/home/vatsal/Dataserver/cascast/output\"\n",
    "import os\n",
    "train_txt = os.path.join(data_dir, \"train.txt\")\n",
    "valid_txt = os.path.join(data_dir, \"val.txt\")\n",
    "test_txt = os.path.join(data_dir, \"test.txt\")\n",
    "\n",
    "test_files = os.listdir(os.path.join(data_dir, \"test_2h\"))[:1000]\n",
    "train_files = os.listdir(os.path.join(data_dir, \"train_2h\"))\n",
    "valid_files = os.listdir(os.path.join(data_dir, \"valid_2h\"))\n",
    "\n",
    "with open(train_txt, 'w') as f:\n",
    "    for file in train_files:\n",
    "        f.write(file + '\\n')\n",
    "with open(valid_txt, 'w') as f:\n",
    "    for file in valid_files:\n",
    "        f.write(file + '\\n')\n",
    "with open(test_txt, 'w') as f:\n",
    "    for file in test_files:\n",
    "        f.write(file + '\\n')\n"
   ]
  },
  {
   "cell_type": "code",
   "execution_count": 6,
   "id": "ff7ae830",
   "metadata": {},
   "outputs": [],
   "source": [
    "path = \"/home/vatsal/Dataserver/cascast/output/test_2h\"\n",
    "import os\n",
    "files = os.listdir(path)\n",
    "months = {}\n",
    "for file in files:\n",
    "    month = file.split('-')[-3].split('_')[-2][:2]\n",
    "    months[month] = months.get(month, 0) + 1"
   ]
  },
  {
   "cell_type": "code",
   "execution_count": 7,
   "id": "0f0a4069",
   "metadata": {},
   "outputs": [
    {
     "data": {
      "text/plain": [
       "{'05': 3562, '01': 9321}"
      ]
     },
     "execution_count": 7,
     "metadata": {},
     "output_type": "execute_result"
    }
   ],
   "source": [
    "months"
   ]
  },
  {
   "cell_type": "code",
   "execution_count": null,
   "id": "a2740106",
   "metadata": {},
   "outputs": [],
   "source": []
  }
 ],
 "metadata": {
  "kernelspec": {
   "display_name": "cascast",
   "language": "python",
   "name": "python3"
  },
  "language_info": {
   "codemirror_mode": {
    "name": "ipython",
    "version": 3
   },
   "file_extension": ".py",
   "mimetype": "text/x-python",
   "name": "python",
   "nbconvert_exporter": "python",
   "pygments_lexer": "ipython3",
   "version": "3.9.17"
  }
 },
 "nbformat": 4,
 "nbformat_minor": 5
}
