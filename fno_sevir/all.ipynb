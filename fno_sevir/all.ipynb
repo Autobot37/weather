{
 "cells": [
  {
   "cell_type": "code",
   "execution_count": null,
   "id": "ff38c699",
   "metadata": {},
   "outputs": [],
   "source": [
    "path = \"/home/vatsal/NWM/earth-forecasting-transformer/scripts/cuboid_transformer/sevir/experiments/pret4/lightning_logs/version_15/metrics.csv\"\n",
    "import pandas as pd\n",
    "to_plot = list(range(0, 1500, 50))\n",
    "df = pd.read_csv(path)"
   ]
  },
  {
   "cell_type": "code",
   "execution_count": null,
   "id": "3403c602",
   "metadata": {},
   "outputs": [],
   "source": [
    "from pprint import pprint\n",
    "\n",
    "pprint(list(df.columns))\n",
    "# pcc ssim psnr rmse"
   ]
  },
  {
   "cell_type": "code",
   "execution_count": null,
   "id": "0a6e4335",
   "metadata": {},
   "outputs": [],
   "source": [
    "import os\n",
    "import matplotlib.pyplot as plt"
   ]
  },
  {
   "cell_type": "code",
   "execution_count": null,
   "id": "0e87aceb",
   "metadata": {},
   "outputs": [
    {
     "name": "stdout",
     "output_type": "stream",
     "text": [
      "Final PCC values: [np.float64(0.887571292192325), np.float64(0.7896119868997), np.float64(0.714392582545755), np.float64(0.6542068976321328), np.float64(0.6033674662403606), np.float64(0.5603802501464342), np.float64(0.5228325740651484), np.float64(0.48863655300493875), np.float64(0.4593511164807298), np.float64(0.4318511128022463), np.float64(0.4065322747615452), np.float64(0.38385467100686593)]\n",
      "Any NaN in PCC: False\n",
      "Saved: /home/vatsal/NWM/fno_sevir/metrics_plot/earthformer_persistence_mean.png\n"
     ]
    }
   ],
   "source": [
    "import pandas as pd\n",
    "import matplotlib.pyplot as plt\n",
    "import os\n",
    "import numpy as np\n",
    "\n",
    "path = \"/home/vatsal/NWM/earth-forecasting-transformer/scripts/cuboid_transformer/sevir/experiments/pret4/lightning_logs/version_15/metrics.csv\"\n",
    "df = pd.read_csv(path)\n",
    "\n",
    "save_path = \"/home/vatsal/NWM/fno_sevir/metrics_plot\"\n",
    "if not os.path.exists(save_path):\n",
    "    os.makedirs(save_path)\n",
    "\n",
    "p_format = \"test_persistence_{name}_step_frame_{frame}\"\n",
    "\n",
    "pccs = [0] * 12\n",
    "ssims = [0] * 12\n",
    "psnrs = [0] * 12\n",
    "rmses = [0] * 12\n",
    "\n",
    "for step_idx in range(len(df)):\n",
    "    row = df.iloc[step_idx]\n",
    "    for frame in range(12):\n",
    "        # Get the actual values and handle NaN/None properly\n",
    "        pcc_val = row[p_format.format(name='pcc', frame=frame)]\n",
    "        ssim_val = row[p_format.format(name='ssim', frame=frame)]\n",
    "        psnr_val = row[p_format.format(name='psnr', frame=frame)]\n",
    "        rmse_val = row[p_format.format(name='rmse', frame=frame)]\n",
    "        \n",
    "        # Check if the VALUE is NaN/None, not the column name\n",
    "        pccs[frame] += pcc_val if not pd.isna(pcc_val) else 0\n",
    "        ssims[frame] += ssim_val if not pd.isna(ssim_val) else 0\n",
    "        psnrs[frame] += psnr_val if not pd.isna(psnr_val) else 0\n",
    "        rmses[frame] += rmse_val if not pd.isna(rmse_val) else 0\n",
    "\n",
    "# Calculate averages\n",
    "pccs = [pcc / len(df) for pcc in pccs]\n",
    "ssims = [ssim / len(df) for ssim in ssims]\n",
    "psnrs = [psnr / len(df) for psnr in psnrs]\n",
    "rmses = [rmse / len(df) for rmse in rmses]\n",
    "\n",
    "# Debug print\n",
    "print(f\"Final PCC values: {pccs}\")\n",
    "print(f\"Any NaN in PCC: {any(np.isnan(pccs))}\")\n",
    "\n",
    "fig, ax = plt.subplots(2, 2, figsize=(12, 8))\n",
    "ax[0, 0].plot(pccs, label='PCC', marker='o')\n",
    "ax[0, 0].set_title('PCC')\n",
    "ax[0, 1].plot(ssims, label='SSIM', marker='o')\n",
    "ax[0, 1].set_title('SSIM')\n",
    "ax[1, 0].plot(psnrs, label='PSNR', marker='o')\n",
    "ax[1, 0].set_title('PSNR')\n",
    "ax[1, 1].plot(rmses, label='RMSE', marker='o')\n",
    "ax[1, 1].set_title('RMSE')\n",
    "\n",
    "plt.suptitle('Earthformer Persistence')\n",
    "for a in ax.flatten():\n",
    "    a.legend()\n",
    "    a.set_xlabel('Frame')\n",
    "    a.set_ylabel('Metric Value')\n",
    "    a.grid(True, alpha=0.3)\n",
    "\n",
    "plt.tight_layout()\n",
    "filepath = os.path.join(save_path, f\"earthformer_persistence_mean.png\")\n",
    "plt.savefig(filepath, dpi=300)\n",
    "plt.close(fig)\n",
    "print(f\"Saved: {filepath}\")"
   ]
  },
  {
   "cell_type": "code",
   "execution_count": null,
   "id": "f528d8b0",
   "metadata": {},
   "outputs": [],
   "source": [
    "os.listdir(\"/home/vatsal/NWM/fno_sevir/metrics_plot\")"
   ]
  },
  {
   "cell_type": "code",
   "execution_count": 24,
   "metadata": {},
   "outputs": [
    {
     "name": "stdout",
     "output_type": "stream",
     "text": [
      "Final PCC values: [np.float64(0.9503400477692343), np.float64(0.9264363159172204), np.float64(0.9023523518063256), np.float64(0.8787658231113799), np.float64(0.8566764538733261), np.float64(0.8355531983252333), np.float64(0.8159521860764442), np.float64(0.7968455538243414), np.float64(0.778909094144455), np.float64(0.7613819698096219), np.float64(0.7447356410181657), np.float64(0.7288403368720958)]\n",
      "Any NaN in PCC: False\n",
      "Saved: /home/vatsal/NWM/fno_sevir/metrics_plot/earthformer_sample_mean.png\n"
     ]
    }
   ],
   "source": [
    "import pandas as pd\n",
    "import matplotlib.pyplot as plt\n",
    "import os\n",
    "import numpy as np\n",
    "\n",
    "path = \"/home/vatsal/NWM/earth-forecasting-transformer/scripts/cuboid_transformer/sevir/experiments/pret4/lightning_logs/version_15/metrics.csv\"\n",
    "df = pd.read_csv(path)\n",
    "\n",
    "save_path = \"/home/vatsal/NWM/fno_sevir/metrics_plot\"\n",
    "if not os.path.exists(save_path):\n",
    "    os.makedirs(save_path)\n",
    "\n",
    "p_format = \"test_persistence_{name}_step_frame_{frame}\"\n",
    "\n",
    "pccs = [0] * 12\n",
    "ssims = [0] * 12\n",
    "psnrs = [0] * 12\n",
    "rmses = [0] * 12\n",
    "\n",
    "for step_idx in range(len(df)):\n",
    "    row = df.iloc[step_idx]\n",
    "    for frame in range(12):\n",
    "        # Get the actual values and handle NaN/None properly\n",
    "        pcc_val = row[s_format.format(name='pcc', frame=frame)]\n",
    "        ssim_val = row[s_format.format(name='ssim', frame=frame)]\n",
    "        psnr_val = row[s_format.format(name='psnr', frame=frame)]\n",
    "        rmse_val = row[s_format.format(name='rmse', frame=frame)]\n",
    "        \n",
    "        # Check if the VALUE is NaN/None, not the column name\n",
    "        pccs[frame] += pcc_val if not pd.isna(pcc_val) else 0\n",
    "        ssims[frame] += ssim_val if not pd.isna(ssim_val) else 0\n",
    "        psnrs[frame] += psnr_val if not pd.isna(psnr_val) else 0\n",
    "        rmses[frame] += rmse_val if not pd.isna(rmse_val) else 0\n",
    "\n",
    "# Calculate averages\n",
    "pccs = [pcc / len(df) for pcc in pccs]\n",
    "ssims = [ssim / len(df) for ssim in ssims]\n",
    "psnrs = [psnr / len(df) for psnr in psnrs]\n",
    "rmses = [rmse / len(df) for rmse in rmses]\n",
    "\n",
    "# Debug print\n",
    "print(f\"Final PCC values: {pccs}\")\n",
    "print(f\"Any NaN in PCC: {any(np.isnan(pccs))}\")\n",
    "\n",
    "fig, ax = plt.subplots(2, 2, figsize=(12, 8))\n",
    "ax[0, 0].plot(pccs, label='PCC', marker='o')\n",
    "ax[0, 0].set_title('PCC')\n",
    "ax[0, 1].plot(ssims, label='SSIM', marker='o')\n",
    "ax[0, 1].set_title('SSIM')\n",
    "ax[1, 0].plot(psnrs, label='PSNR', marker='o')\n",
    "ax[1, 0].set_title('PSNR')\n",
    "ax[1, 1].plot(rmses, label='RMSE', marker='o')\n",
    "ax[1, 1].set_title('RMSE')\n",
    "\n",
    "plt.suptitle('Earthformer Sample Mean')\n",
    "for a in ax.flatten():\n",
    "    a.legend()\n",
    "    a.set_xlabel('Frame')\n",
    "    a.set_ylabel('Metric Value')\n",
    "    a.grid(True, alpha=0.3)\n",
    "\n",
    "plt.tight_layout()\n",
    "filepath = os.path.join(save_path, f\"earthformer_sample_mean.png\")\n",
    "plt.savefig(filepath, dpi=300)\n",
    "plt.close(fig)\n",
    "print(f\"Saved: {filepath}\")"
   ]
  },
  {
   "cell_type": "code",
   "execution_count": 33,
   "id": "972b7124",
   "metadata": {},
   "outputs": [
    {
     "data": {
      "image/png": "[encoded data removed]",
      "text/plain": [
       "<Figure size 1000x500 with 1 Axes>"
      ]
     },
     "metadata": {},
     "output_type": "display_data"
    }
   ],
   "source": [
    "import os\n",
    "import matplotlib.pyplot as plt\n",
    "import pickle\n",
    "import torch\n",
    "e_dir = \"/home/vatsal/NWM/earth-forecasting-transformer/scripts/cuboid_transformer/sevir/experiments/tmp_sevir/scores\"\n",
    "pkl_files = os.listdir(e_dir)\n",
    "pkl_files = [f for f in pkl_files if f.startswith('val')]\n",
    "pkl_files = sorted(pkl_files)\n",
    "mses = []\n",
    "for pkl_file in pkl_files:\n",
    "    with open(os.path.join(e_dir, pkl_file), 'rb') as f:\n",
    "        data = pickle.load(f)\n",
    "        mse = data['mse']\n",
    "        mse = mse.item() if isinstance(mse, torch.Tensor) else mse\n",
    "        mses.append(mse)\n",
    "plt.figure(figsize=(10, 5))\n",
    "plt.plot(mses, marker='o', linestyle='-', color='b')\n",
    "plt.title('MSE over Validation Steps')\n",
    "plt.xlabel('Validation Step')\n",
    "plt.ylabel('MSE')\n",
    "plt.grid(True)\n",
    "plt.savefig(\"/home/vatsal/NWM/earth-forecasting-transformer/scripts/cuboid_transformer/sevir/experiments/pret4/loss.png\", dpi=300)\n",
    "plt.show()"
   ]
  },
  {
   "cell_type": "code",
   "execution_count": 26,
   "id": "7d47eb14",
   "metadata": {},
   "outputs": [],
   "source": [
    "path = \"/home/vatsal/NWM/fno_sevir/fno_test_metrics.csv\"\n",
    "import pandas as pd\n",
    "df = pd.read_csv(path)\n",
    "import matplotlib.pyplot as plt\n",
    "cols = df.columns\n",
    "# pprint(list(cols)\n",
    "import os\n",
    "\n",
    "names = ['pcc', 'ssim', 'psnr', 'rmse']\n",
    "s_format = \"sample_{name}_{idx}\"\n",
    "p_format = \"persistence_{name}_{idx}\""
   ]
  },
  {
   "cell_type": "code",
   "execution_count": 27,
   "id": "b5013646",
   "metadata": {},
   "outputs": [
    {
     "name": "stdout",
     "output_type": "stream",
     "text": [
      "Saved: /home/vatsal/NWM/fno_sevir/fno_metrics_plot/fno_persistence_mean.png\n"
     ]
    }
   ],
   "source": [
    "save_path = \"/home/vatsal/NWM/fno_sevir/fno_metrics_plot\"\n",
    "if not os.path.exists(save_path):\n",
    "    os.makedirs(save_path)\n",
    "to_plot = list(range(0, 1500, 50))\n",
    "\n",
    "pccs = [0] * 10\n",
    "ssims = [0] * 10\n",
    "psnrs = [0] * 10\n",
    "rmses = [0] * 10\n",
    "\n",
    "for step_idx in range(len(df)):\n",
    "    row = df.iloc[step_idx]\n",
    "    for frame in range(10):\n",
    "        pccs[frame] += (row[p_format.format(name='pcc', idx=frame)])\n",
    "        ssims[frame] += (row[p_format.format(name='ssim', idx=frame)])\n",
    "        psnrs[frame] += (row[p_format.format(name='psnr', idx=frame)])\n",
    "        rmses[frame] += (row[p_format.format(name='rmse', idx=frame)])\n",
    "pccs = [pcc / len(df) for pcc in pccs]\n",
    "ssims = [ssim / len(df) for ssim in ssims]\n",
    "psnrs = [psnr / len(df) for psnr in psnrs]\n",
    "rmses = [rmse / len(df) for rmse in rmses]\n",
    "\n",
    "fig, ax = plt.subplots(2, 2, figsize=(12, 8))\n",
    "ax[0, 0].plot(pccs, label='PCC', marker='o')\n",
    "ax[0, 0].set_title('PCC')\n",
    "ax[0, 1].plot(ssims, label='SSIM', marker='o')\n",
    "ax[0, 1].set_title('SSIM')\n",
    "ax[1, 0].plot(psnrs, label='PSNR', marker='o')\n",
    "ax[1, 0].set_title('PSNR')\n",
    "ax[1, 1].plot(rmses, label='RMSE', marker='o')\n",
    "ax[1, 1].set_title('RMSE')\n",
    "plt.suptitle('FNO Persistence')\n",
    "for a in ax.flatten():\n",
    "    a.legend()\n",
    "    a.set_xlabel('Frame')\n",
    "    a.set_ylabel('Metric Value')\n",
    "\n",
    "plt.tight_layout()\n",
    "filepath = os.path.join(save_path, f\"fno_persistence_mean.png\")\n",
    "plt.savefig(filepath, dpi=300)\n",
    "plt.close(fig)\n",
    "print(f\"Saved: {filepath}\") "
   ]
  },
  {
   "cell_type": "code",
   "execution_count": 28,
   "id": "bff42046",
   "metadata": {},
   "outputs": [
    {
     "name": "stdout",
     "output_type": "stream",
     "text": [
      "Saved: /home/vatsal/NWM/fno_sevir/fno_metrics_plot/fno_sample_mean.png\n"
     ]
    }
   ],
   "source": [
    "save_path = \"/home/vatsal/NWM/fno_sevir/fno_metrics_plot\"\n",
    "if not os.path.exists(save_path):\n",
    "    os.makedirs(save_path)\n",
    "to_plot = list(range(0, 1500, 50))\n",
    "\n",
    "pccs = [0] * 10\n",
    "ssims = [0] * 10\n",
    "psnrs = [0] * 10\n",
    "rmses = [0] * 10\n",
    "\n",
    "for step_idx in range(len(df)):\n",
    "    row = df.iloc[step_idx]\n",
    "    for frame in range(10):\n",
    "        pccs[frame] += (row[s_format.format(name='pcc', idx=frame)])\n",
    "        ssims[frame] += (row[s_format.format(name='ssim', idx=frame)])\n",
    "        psnrs[frame] += (row[s_format.format(name='psnr', idx=frame)])\n",
    "        rmses[frame] += (row[s_format.format(name='rmse', idx=frame)])\n",
    "pccs = [pcc / len(df) for pcc in pccs]\n",
    "ssims = [ssim / len(df) for ssim in ssims]\n",
    "psnrs = [psnr / len(df) for psnr in psnrs]\n",
    "rmses = [rmse / len(df) for rmse in rmses]\n",
    "\n",
    "fig, ax = plt.subplots(2, 2, figsize=(12, 8))\n",
    "ax[0, 0].plot(pccs, label='PCC', marker='o')\n",
    "ax[0, 0].set_title('PCC')\n",
    "ax[0, 1].plot(ssims, label='SSIM', marker='o')\n",
    "ax[0, 1].set_title('SSIM')\n",
    "ax[1, 0].plot(psnrs, label='PSNR',  marker='o')\n",
    "ax[1, 0].set_title('PSNR')\n",
    "ax[1, 1].plot(rmses, label='RMSE', marker='o')\n",
    "ax[1, 1].set_title('RMSE')\n",
    "plt.suptitle('FNO Sample Mean')\n",
    "for a in ax.flatten():\n",
    "    a.legend()\n",
    "    a.set_xlabel('Frame')\n",
    "    a.set_ylabel('Metric Value')\n",
    "\n",
    "plt.tight_layout()\n",
    "filepath = os.path.join(save_path, f\"fno_sample_mean.png\")\n",
    "plt.savefig(filepath, dpi=300)\n",
    "plt.close(fig)\n",
    "print(f\"Saved: {filepath}\") "
   ]
  },
  {
   "cell_type": "code",
   "execution_count": null,
   "id": "efce4c13",
   "metadata": {},
   "outputs": [],
   "source": []
  }
 ],
 "metadata": {
  "kernelspec": {
   "display_name": "senv",
   "language": "python",
   "name": "python3"
  },
  "language_info": {
   "codemirror_mode": {
    "name": "ipython",
    "version": 3
   },
   "file_extension": ".py",
   "mimetype": "text/x-python",
   "name": "python",
   "nbconvert_exporter": "python",
   "pygments_lexer": "ipython3",
   "version": "3.13.2"
  }
 },
 "nbformat": 4,
 "nbformat_minor": 5
}
