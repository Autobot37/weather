{
 "cells": [
  {
   "cell_type": "code",
   "execution_count": 5,
   "id": "4e5808e4",
   "metadata": {},
   "outputs": [
    {
     "name": "stdout",
     "output_type": "stream",
     "text": [
      "(5, 13, 721, 1440)\n"
     ]
    }
   ],
   "source": [
    "import numpy as np\n",
    "\n",
    "data_out = np.load('/home/vatsal/NWM/Pangu/Pangu-Weather/output_data/output_upper_6hr.npy')\n",
    "print(data_out.shape)\n"
   ]
  },
  {
   "cell_type": "code",
   "execution_count": 6,
   "id": "cba64669",
   "metadata": {},
   "outputs": [
    {
     "name": "stdout",
     "output_type": "stream",
     "text": [
      "(4, 721, 1440)\n"
     ]
    }
   ],
   "source": [
    "data_out2 = np.load('/home/vatsal/NWM/Pangu/Pangu-Weather/output_data/output_surface.npy')\n",
    "print(data_out2.shape)"
   ]
  },
  {
   "cell_type": "code",
   "execution_count": 7,
   "id": "924cfdce",
   "metadata": {},
   "outputs": [
    {
     "name": "stdout",
     "output_type": "stream",
     "text": [
      "(5, 13, 721, 1440)\n"
     ]
    }
   ],
   "source": [
    "data_in = np.load('/home/vatsal/NWM/Pangu/Pangu-Weather/input_data/input_upper.npy')\n",
    "print(data_in.shape)"
   ]
  },
  {
   "cell_type": "code",
   "execution_count": null,
   "id": "86515043",
   "metadata": {},
   "outputs": [],
   "source": []
  }
 ],
 "metadata": {
  "kernelspec": {
   "display_name": "Python 3",
   "language": "python",
   "name": "python3"
  },
  "language_info": {
   "codemirror_mode": {
    "name": "ipython",
    "version": 3
   },
   "file_extension": ".py",
   "mimetype": "text/x-python",
   "name": "python",
   "nbconvert_exporter": "python",
   "pygments_lexer": "ipython3",
   "version": "3.10.12"
  }
 },
 "nbformat": 4,
 "nbformat_minor": 5
}
