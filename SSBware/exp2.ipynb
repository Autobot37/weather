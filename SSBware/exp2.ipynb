{
 "cells": [
  {
   "cell_type": "code",
   "execution_count": 3,
   "id": "398b9b0f",
   "metadata": {},
   "outputs": [
    {
     "name": "stdout",
     "output_type": "stream",
     "text": [
      "True\n",
      "True\n"
     ]
    }
   ],
   "source": [
    "import xarray as xr\n",
    "import numpy as np\n",
    "ds = xr.open_dataset(\"train_test/full_dataset/31JUL2024_150238.nc\")\n",
    "ds2 = xr.open_dataset(\"train_test/full_dataset/01JUL2024_132946.nc\", decode_times=False)\n",
    "lat1 = ds['lat'].values\n",
    "lon1 = ds['lon'].values\n",
    "lat2 = ds2['lat'].values\n",
    "lon2 = ds2['lon'].values\n",
    "\n",
    "print((lat1 == lat2).all())\n",
    "print((lon1 == lon2).all())"
   ]
  },
  {
   "cell_type": "code",
   "execution_count": null,
   "id": "bb9cd657",
   "metadata": {},
   "outputs": [],
   "source": []
  }
 ],
 "metadata": {
  "kernelspec": {
   "display_name": "senv",
   "language": "python",
   "name": "python3"
  },
  "language_info": {
   "codemirror_mode": {
    "name": "ipython",
    "version": 3
   },
   "file_extension": ".py",
   "mimetype": "text/x-python",
   "name": "python",
   "nbconvert_exporter": "python",
   "pygments_lexer": "ipython3",
   "version": "3.13.2"
  }
 },
 "nbformat": 4,
 "nbformat_minor": 5
}
