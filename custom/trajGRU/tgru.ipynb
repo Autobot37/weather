{
 "cells": [
  {
   "cell_type": "code",
   "execution_count": null,
   "id": "62bd18cc",
   "metadata": {},
   "outputs": [],
   "source": [
    "from Rainy_Dataset import *"
   ]
  },
  {
   "cell_type": "code",
   "execution_count": 38,
   "id": "247940b3",
   "metadata": {},
   "outputs": [],
   "source": [
    "train_dataset, test_dataset, val_dataset = rainy_dataset(\"/home/vatsal/NWM/SSBware/full_dataset\", 8, 8)"
   ]
  },
  {
   "cell_type": "code",
   "execution_count": null,
   "id": "ab05d108",
   "metadata": {},
   "outputs": [
    {
     "name": "stdout",
     "output_type": "stream",
     "text": [
      "torch.Size([8, 8, 480, 480])\n",
      "torch.Size([8, 8, 480, 480])\n"
     ]
    }
   ],
   "source": [
    "train_loader = create_loader(train_dataset, 8)\n",
    "val_loader = create_loader(val_dataset, 8)\n",
    "test_loader = create_loader(test_dataset, 8)\n",
    "for x, y in train_loader:\n",
    "    print(x.shape)\n",
    "    print(y.shape)\n",
    "    break"
   ]
  },
  {
   "cell_type": "code",
   "execution_count": 42,
   "id": "8be91222",
   "metadata": {},
   "outputs": [
    {
     "name": "stdout",
     "output_type": "stream",
     "text": [
      "torch.Size([8, 8, 1, 480, 480])\n"
     ]
    }
   ],
   "source": [
    "for x, y in train_loader:\n",
    "    x = x.unsqueeze(2)\n",
    "    print(x.shape)\n",
    "    break"
   ]
  },
  {
   "cell_type": "code",
   "execution_count": null,
   "id": "12a454cd",
   "metadata": {},
   "outputs": [],
   "source": []
  }
 ],
 "metadata": {
  "kernelspec": {
   "display_name": "senv",
   "language": "python",
   "name": "python3"
  },
  "language_info": {
   "codemirror_mode": {
    "name": "ipython",
    "version": 3
   },
   "file_extension": ".py",
   "mimetype": "text/x-python",
   "name": "python",
   "nbconvert_exporter": "python",
   "pygments_lexer": "ipython3",
   "version": "3.13.2"
  }
 },
 "nbformat": 4,
 "nbformat_minor": 5
}
