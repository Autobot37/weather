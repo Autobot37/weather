{
 "cells": [
  {
   "cell_type": "code",
   "execution_count": 1,
   "id": "b5b072bd",
   "metadata": {},
   "outputs": [
    {
     "name": "stdout",
     "output_type": "stream",
     "text": [
      "(12, 4, 48, 48)\n"
     ]
    }
   ],
   "source": [
    "path = \"/home/vatsal/NWM/CasCast/latent_data/earthformer_example/test_2h/vil-2019-SEVIR_VIL_RANDOMEVENTS_2019_0501_0831.h5-0-2.npy\"\n",
    "import h5py\n",
    "import numpy as np\n",
    "import matplotlib.pyplot as plt\n",
    "\n",
    "import os\n",
    "data = np.load(path)\n",
    "print(data.shape)"
   ]
  },
  {
   "cell_type": "code",
   "execution_count": 3,
   "id": "8b4bfede",
   "metadata": {},
   "outputs": [
    {
     "name": "stdout",
     "output_type": "stream",
     "text": [
      "{16: {'bias': 6.5833001136779785,\n",
      "      'csi': 0.49109575152397156,\n",
      "      'pod': 0.9150964021682739,\n",
      "      'sucr': 0.5145404934883118},\n",
      " 74: {'bias': 1.7942413091659546,\n",
      "      'csi': 0.4575192332267761,\n",
      "      'pod': 0.6053506135940552,\n",
      "      'sucr': 0.6519902348518372},\n",
      " 133: {'bias': 0.0, 'csi': 0.0, 'pod': 0.0, 'sucr': 0.0},\n",
      " 160: {'bias': 0.0, 'csi': 0.0, 'pod': 0.0, 'sucr': 0.0},\n",
      " 181: {'bias': 0.0, 'csi': 0.0, 'pod': 0.0, 'sucr': 0.0},\n",
      " 219: {'bias': 0.0, 'csi': 0.0, 'pod': 0.0, 'sucr': 0.0},\n",
      " 'acc': np.float64(0.6551012618453415),\n",
      " 'avg': {'bias': 1.3962569038073223,\n",
      "         'csi': 0.15810249745845795,\n",
      "         'pod': 0.2534078359603882,\n",
      "         'sucr': 0.1944217880566915},\n",
      " 'mae': tensor(0.0852, device='cuda:0'),\n",
      " 'mse': tensor(0.0174, device='cuda:0'),\n",
      " 'pcc': np.float64(0.5107037933179723),\n",
      " 'psnr': np.float64(18.485019733231045),\n",
      " 'rmse': np.float32(0.12622647),\n",
      " 'ssim': np.float64(0.22164757967496088)}\n"
     ]
    }
   ],
   "source": [
    "import os\n",
    "import pickle\n",
    "from pprint import pprint\n",
    "with open(\"/home/vatsal/NWM/earth-forecasting-transformer/scripts/cuboid_transformer/sevir/experiments/tmp_sevir2/scores/val_results_epoch_0.pkl\", \"rb\") as f:\n",
    "    data = pickle.load(f)\n",
    "    pprint(data)"
   ]
  },
  {
   "cell_type": "code",
   "execution_count": null,
   "id": "b2440b20",
   "metadata": {},
   "outputs": [
    {
     "name": "stdout",
     "output_type": "stream",
     "text": [
      "(1900, 384, 384, 49)\n"
     ]
    }
   ],
   "source": [
    "path3 = \"/home/vatsal/NWM/earth-forecasting-transformer/datasets/sevir/data/vil/2017/SEVIR_VIL_RANDOMEVENTS_2017_0901_1231.h5\"\n",
    "data3 = h5py.File(path3, 'r')\n",
    "data3 = data3['vil'][:] \n",
    "print(data3.shape)\n"
   ]
  },
  {
   "cell_type": "code",
   "execution_count": 5,
   "id": "3cd602ab",
   "metadata": {},
   "outputs": [
    {
     "name": "stdout",
     "output_type": "stream",
     "text": [
      "(793, 384, 384, 49)\n"
     ]
    }
   ],
   "source": [
    "path4 = \"/home/vatsal/NWM/earth-forecasting-transformer/datasets/sevir/data/vil/2018/SEVIR_VIL_STORMEVENTS_2018_0101_0630.h5\"\n",
    "data4 = h5py.File(path4, 'r')\n",
    "data4 = data4['vil'][:]\n",
    "print(data4.shape)"
   ]
  },
  {
   "cell_type": "code",
   "execution_count": null,
   "id": "875a6a3f",
   "metadata": {},
   "outputs": [],
   "source": [
    "def get_size(folder_path):\n",
    "    total_size = 0\n",
    "    for dirpath, dirnames, filenames in os.walk(folder_path):\n",
    "        for f in filenames:\n",
    "            fp = os.path.join(dirpath, f)\n",
    "            if os.path.isfile(fp):\n",
    "                total_size += os.path.getsize(fp)\n",
    "    size_mb = total_size / (1024 ** 2)\n",
    "    size_gb = total_size / (1024 ** 3)\n",
    "    return size_mb, size_gb\n",
    "\n",
    "print(get_size(\"/home/vatsal/NWM/earth-forecasting-transformer/datasets/sevir/data\"))"
   ]
  },
  {
   "cell_type": "code",
   "execution_count": null,
   "id": "d107348c",
   "metadata": {},
   "outputs": [],
   "source": []
  }
 ],
 "metadata": {
  "kernelspec": {
   "display_name": "senv",
   "language": "python",
   "name": "python3"
  },
  "language_info": {
   "codemirror_mode": {
    "name": "ipython",
    "version": 3
   },
   "file_extension": ".py",
   "mimetype": "text/x-python",
   "name": "python",
   "nbconvert_exporter": "python",
   "pygments_lexer": "ipython3",
   "version": "3.13.2"
  }
 },
 "nbformat": 4,
 "nbformat_minor": 5
}
