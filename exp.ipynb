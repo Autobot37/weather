{
 "cells": [
  {
   "cell_type": "code",
   "execution_count": 11,
   "id": "b5b072bd",
   "metadata": {},
   "outputs": [
    {
     "name": "stdout",
     "output_type": "stream",
     "text": [
      "(12, 4, 48, 48)\n"
     ]
    }
   ],
   "source": [
    "path = \"/home/vatsal/NWM/CasCast/latent_data/earthformer_example/test_2h/vil-2019-SEVIR_VIL_RANDOMEVENTS_2019_0501_0831.h5-0-2.npy\"\n",
    "import h5py\n",
    "import numpy as np\n",
    "import matplotlib.pyplot as plt\n",
    "\n",
    "import os\n",
    "data = np.load(path)\n",
    "print(data.shape)"
   ]
  },
  {
   "cell_type": "code",
   "execution_count": 1,
   "id": "8b4bfede",
   "metadata": {},
   "outputs": [
    {
     "name": "stdout",
     "output_type": "stream",
     "text": [
      "{16: {'bias': 2.674252510070801,\n",
      "      'csi': 0.7783332467079163,\n",
      "      'pod': 0.9337869882583618,\n",
      "      'sucr': 0.8237987756729126},\n",
      " 74: {'bias': 2.1175405979156494,\n",
      "      'csi': 0.7116419076919556,\n",
      "      'pod': 0.8351284861564636,\n",
      "      'sucr': 0.8279649615287781},\n",
      " 133: {'bias': 1.911167025566101,\n",
      "       'csi': 0.46627241373062134,\n",
      "       'pod': 0.6227177381515503,\n",
      "       'sucr': 0.6498549580574036},\n",
      " 160: {'bias': 1.1911898851394653,\n",
      "       'csi': 0.35356423258781433,\n",
      "       'pod': 0.4588181972503662,\n",
      "       'sucr': 0.6064914464950562},\n",
      " 181: {'bias': 0.9405474066734314,\n",
      "       'csi': 0.3053286671638489,\n",
      "       'pod': 0.3911496102809906,\n",
      "       'sucr': 0.5818714499473572},\n",
      " 219: {'bias': 0.6369980573654175,\n",
      "       'csi': 0.1833953708410263,\n",
      "       'pod': 0.2407078593969345,\n",
      "       'sucr': 0.43510666489601135},\n",
      " 'avg': {'bias': 1.5786159137884777,\n",
      "         'csi': 0.4664226397871971,\n",
      "         'pod': 0.5803848132491112,\n",
      "         'sucr': 0.6541813760995865},\n",
      " 'mae': tensor(0.0311, device='cuda:0'),\n",
      " 'mse': tensor(0.0045, device='cuda:0'),\n",
      " 'pcc': np.float64(0.8316627662036263),\n",
      " 'psnr': np.float64(26.646328326241647),\n",
      " 'rmse': np.float32(0.059255652),\n",
      " 'ssim': np.float64(0.7253478904489408)}\n"
     ]
    }
   ],
   "source": [
    "import os\n",
    "import pickle\n",
    "from pprint import pprint\n",
    "with open(\"/home/vatsal/NWM/earth-forecasting-transformer/scripts/cuboid_transformer/sevir/experiments/pret3/scores/test_results_epoch_0.pkl\", \"rb\") as f:\n",
    "    data = pickle.load(f)\n",
    "    pprint(data)"
   ]
  },
  {
   "cell_type": "code",
   "execution_count": 12,
   "id": "b2440b20",
   "metadata": {},
   "outputs": [
    {
     "name": "stdout",
     "output_type": "stream",
     "text": [
      "(1440, 128, 128, 25)\n"
     ]
    }
   ],
   "source": [
    "path3 = \"/home/vatsal/NWM/PreDiff/datasets/sevirlr/data/vil/2017/SEVIR_VIL_RANDOMEVENTS_2017_0501_0831.h5\"\n",
    "data3 = h5py.File(path3, 'r')\n",
    "data3 = data3['vil'][:] \n",
    "print(data3.shape)"
   ]
  },
  {
   "cell_type": "code",
   "execution_count": 5,
   "id": "3cd602ab",
   "metadata": {},
   "outputs": [
    {
     "name": "stdout",
     "output_type": "stream",
     "text": [
      "(793, 384, 384, 49)\n"
     ]
    }
   ],
   "source": [
    "path4 = \"/home/vatsal/NWM/earth-forecasting-transformer/datasets/sevir/data/vil/2018/SEVIR_VIL_STORMEVENTS_2018_0101_0630.h5\"\n",
    "data4 = h5py.File(path4, 'r')\n",
    "data4 = data4['vil'][:]\n",
    "print(data4.shape)"
   ]
  },
  {
   "cell_type": "code",
   "execution_count": 9,
   "id": "e66c3adb",
   "metadata": {},
   "outputs": [
    {
     "name": "stdout",
     "output_type": "stream",
     "text": [
      "0.0365007875\n"
     ]
    }
   ],
   "source": [
    "import numpy as np\n",
    "\n",
    "arr = np.array([\n",
    "    0.01270408, 0.01736081, 0.0214278,  0.0249387,  0.02778735, 0.02968999,\n",
    "    0.03174827, 0.03389853, 0.03606077, 0.03819114, 0.03983238, 0.04135381,\n",
    "    0.04308653, 0.04411777, 0.04524541, 0.04641593, 0.04753626, 0.04847461,\n",
    "    0.04944329, 0.05070232\n",
    "])\n",
    "\n",
    "mean_val = np.mean(arr)\n",
    "print(mean_val)\n"
   ]
  },
  {
   "cell_type": "code",
   "execution_count": 7,
   "id": "1bc726b6",
   "metadata": {},
   "outputs": [
    {
     "data": {
      "text/plain": [
       "True"
      ]
     },
     "execution_count": 7,
     "metadata": {},
     "output_type": "execute_result"
    }
   ],
   "source": [
    "import os\n",
    "os.path.exists('/home/vatsal/NWM/PreDiff/datasets/sevir/CATALOG.csv')"
   ]
  },
  {
   "cell_type": "code",
   "execution_count": 9,
   "id": "f859b8fc",
   "metadata": {},
   "outputs": [
    {
     "name": "stdout",
     "output_type": "stream",
     "text": [
      "Folder size: 137.24 GB\n"
     ]
    }
   ],
   "source": [
    "def get_folder_sizegb(folder_path):\n",
    "    total_size = 0\n",
    "    for dirpath, dirnames, filenames in os.walk(folder_path):\n",
    "        for filename in filenames:\n",
    "            file_path = os.path.join(dirpath, filename)\n",
    "            if os.path.isfile(file_path):\n",
    "                total_size += os.path.getsize(file_path)\n",
    "    return total_size / (1024 ** 3)  # Convert bytes to gigabytes\n",
    "path = \"/home/vatsal/NWM/earth-forecasting-transformer/datasets/sevir\"\n",
    "folder_size_gb = get_folder_sizegb(path)\n",
    "print(f\"Folder size: {folder_size_gb:.2f} GB\")"
   ]
  },
  {
   "cell_type": "code",
   "execution_count": null,
   "id": "0681f0d1",
   "metadata": {},
   "outputs": [],
   "source": []
  }
 ],
 "metadata": {
  "kernelspec": {
   "display_name": "cascast",
   "language": "python",
   "name": "python3"
  },
  "language_info": {
   "codemirror_mode": {
    "name": "ipython",
    "version": 3
   },
   "file_extension": ".py",
   "mimetype": "text/x-python",
   "name": "python",
   "nbconvert_exporter": "python",
   "pygments_lexer": "ipython3",
   "version": "3.9.17"
  }
 },
 "nbformat": 4,
 "nbformat_minor": 5
}
