{
 "cells": [
  {
   "cell_type": "code",
   "execution_count": null,
   "id": "6d33ca58",
   "metadata": {},
   "outputs": [
    {
     "name": "stdout",
     "output_type": "stream",
     "text": [
      "length of x: 37\n",
      "length of x: 46\n",
      "length of x: 41\n",
      "length of x: 50\n",
      "length of x: 49\n",
      "length of x: 50\n",
      "length of x: 45\n",
      "length of x: 46\n"
     ]
    }
   ],
   "source": [
    "import os\n",
    "for x, y, z in os.walk(\"/home/vatsal/NWM/CasCast/~/Dataserver\"):\n",
    "    print(\"length of x:\", len(x))"
   ]
  },
  {
   "cell_type": "code",
   "execution_count": 11,
   "id": "b5b072bd",
   "metadata": {},
   "outputs": [
    {
     "name": "stdout",
     "output_type": "stream",
     "text": [
      "(12, 4, 48, 48)\n"
     ]
    }
   ],
   "source": [
    "path = \"/home/vatsal/NWM/CasCast/latent_data/earthformer_example/test_2h/vil-2019-SEVIR_VIL_RANDOMEVENTS_2019_0501_0831.h5-0-2.npy\"\n",
    "import h5py\n",
    "import numpy as np\n",
    "import matplotlib.pyplot as plt\n",
    "\n",
    "import os\n",
    "data = np.load(path)\n",
    "print(data.shape)"
   ]
  },
  {
   "cell_type": "code",
   "execution_count": 1,
   "id": "8b4bfede",
   "metadata": {},
   "outputs": [
    {
     "name": "stdout",
     "output_type": "stream",
     "text": [
      "{16: {'bias': 2.674252510070801,\n",
      "      'csi': 0.7783332467079163,\n",
      "      'pod': 0.9337869882583618,\n",
      "      'sucr': 0.8237987756729126},\n",
      " 74: {'bias': 2.1175405979156494,\n",
      "      'csi': 0.7116419076919556,\n",
      "      'pod': 0.8351284861564636,\n",
      "      'sucr': 0.8279649615287781},\n",
      " 133: {'bias': 1.911167025566101,\n",
      "       'csi': 0.46627241373062134,\n",
      "       'pod': 0.6227177381515503,\n",
      "       'sucr': 0.6498549580574036},\n",
      " 160: {'bias': 1.1911898851394653,\n",
      "       'csi': 0.35356423258781433,\n",
      "       'pod': 0.4588181972503662,\n",
      "       'sucr': 0.6064914464950562},\n",
      " 181: {'bias': 0.9405474066734314,\n",
      "       'csi': 0.3053286671638489,\n",
      "       'pod': 0.3911496102809906,\n",
      "       'sucr': 0.5818714499473572},\n",
      " 219: {'bias': 0.6369980573654175,\n",
      "       'csi': 0.1833953708410263,\n",
      "       'pod': 0.2407078593969345,\n",
      "       'sucr': 0.43510666489601135},\n",
      " 'avg': {'bias': 1.5786159137884777,\n",
      "         'csi': 0.4664226397871971,\n",
      "         'pod': 0.5803848132491112,\n",
      "         'sucr': 0.6541813760995865},\n",
      " 'mae': tensor(0.0311, device='cuda:0'),\n",
      " 'mse': tensor(0.0045, device='cuda:0'),\n",
      " 'pcc': np.float64(0.8316627662036263),\n",
      " 'psnr': np.float64(26.646328326241647),\n",
      " 'rmse': np.float32(0.059255652),\n",
      " 'ssim': np.float64(0.7253478904489408)}\n"
     ]
    }
   ],
   "source": [
    "import os\n",
    "import pickle\n",
    "from pprint import pprint\n",
    "with open(\"/home/vatsal/NWM/earth-forecasting-transformer/scripts/cuboid_transformer/sevir/experiments/pret3/scores/test_results_epoch_0.pkl\", \"rb\") as f:\n",
    "    data = pickle.load(f)\n",
    "    pprint(data)"
   ]
  },
  {
   "cell_type": "code",
   "execution_count": 12,
   "id": "b2440b20",
   "metadata": {},
   "outputs": [
    {
     "name": "stdout",
     "output_type": "stream",
     "text": [
      "(1440, 128, 128, 25)\n"
     ]
    }
   ],
   "source": [
    "path3 = \"/home/vatsal/NWM/PreDiff/datasets/sevirlr/data/vil/2017/SEVIR_VIL_RANDOMEVENTS_2017_0501_0831.h5\"\n",
    "data3 = h5py.File(path3, 'r')\n",
    "data3 = data3['vil'][:] \n",
    "print(data3.shape)"
   ]
  },
  {
   "cell_type": "code",
   "execution_count": 5,
   "id": "3cd602ab",
   "metadata": {},
   "outputs": [
    {
     "name": "stdout",
     "output_type": "stream",
     "text": [
      "(793, 384, 384, 49)\n"
     ]
    }
   ],
   "source": [
    "path4 = \"/home/vatsal/NWM/earth-forecasting-transformer/datasets/sevir/data/vil/2018/SEVIR_VIL_STORMEVENTS_2018_0101_0630.h5\"\n",
    "data4 = h5py.File(path4, 'r')\n",
    "data4 = data4['vil'][:]\n",
    "print(data4.shape)"
   ]
  },
  {
   "cell_type": "code",
   "execution_count": 9,
   "id": "e66c3adb",
   "metadata": {},
   "outputs": [
    {
     "name": "stdout",
     "output_type": "stream",
     "text": [
      "0.0365007875\n"
     ]
    }
   ],
   "source": [
    "import numpy as np\n",
    "\n",
    "arr = np.array([\n",
    "    0.01270408, 0.01736081, 0.0214278,  0.0249387,  0.02778735, 0.02968999,\n",
    "    0.03174827, 0.03389853, 0.03606077, 0.03819114, 0.03983238, 0.04135381,\n",
    "    0.04308653, 0.04411777, 0.04524541, 0.04641593, 0.04753626, 0.04847461,\n",
    "    0.04944329, 0.05070232\n",
    "])\n",
    "\n",
    "mean_val = np.mean(arr)\n",
    "print(mean_val)\n"
   ]
  },
  {
   "cell_type": "code",
   "execution_count": 7,
   "id": "1bc726b6",
   "metadata": {},
   "outputs": [
    {
     "data": {
      "text/plain": [
       "True"
      ]
     },
     "execution_count": 7,
     "metadata": {},
     "output_type": "execute_result"
    }
   ],
   "source": [
    "import os\n",
    "os.path.exists('/home/vatsal/NWM/PreDiff/datasets/sevir/CATALOG.csv')"
   ]
  },
  {
   "cell_type": "code",
   "execution_count": 7,
   "id": "f859b8fc",
   "metadata": {},
   "outputs": [
    {
     "name": "stdout",
     "output_type": "stream",
     "text": [
      "Folder size: 0.00 GB\n"
     ]
    }
   ],
   "source": [
    "def get_folder_sizegb(folder_path):\n",
    "    total_size = 0\n",
    "    for dirpath, dirnames, filenames in os.walk(folder_path):\n",
    "        for filename in filenames:\n",
    "            file_path = os.path.join(dirpath, filename)\n",
    "            if os.path.isfile(file_path):\n",
    "                total_size += os.path.getsize(file_path)\n",
    "    return total_size / (1024 ** 3)  # Convert bytes to gigabytes\n",
    "path = \"/home/vatsal/NWM/CasCast/~/Dataserver/vil\"\n",
    "folder_size_gb = get_folder_sizegb(path)\n",
    "print(f\"Folder size: {folder_size_gb:.2f} GB\")"
   ]
  },
  {
   "cell_type": "code",
   "execution_count": 13,
   "id": "0681f0d1",
   "metadata": {},
   "outputs": [],
   "source": [
    "txt_path = \"/home/vatsal/NWM/CasCast/pixel_data/train_list.txt\"\n",
    "files_path = \"/home/vatsal/NWM/CasCast/pixel_data/train_2h\"\n",
    "\n",
    "for filename in os.listdir(files_path):\n",
    "    if filename.endswith(\".npy\"):\n",
    "        file_path = filename\n",
    "        with open(txt_path, \"a\") as f:\n",
    "            f.write(file_path + \"\\n\")\n",
    "    else:\n",
    "        print(f\"Skipped {filename}, not a .npy file.\")"
   ]
  },
  {
   "cell_type": "code",
   "execution_count": null,
   "id": "a326ee78",
   "metadata": {},
   "outputs": [],
   "source": [
    "/home/vatsal/NWM/CasCast/latent_data/earthformer_example/test_2h/vil-2019-SEVIR_VIL_RANDOMEVENTS_2019_0501_0831.h5-0-1.npy"
   ]
  },
  {
   "cell_type": "code",
   "execution_count": 12,
   "id": "980980af",
   "metadata": {},
   "outputs": [
    {
     "name": "stdout",
     "output_type": "stream",
     "text": [
      "2019 9\n",
      " length: 6480\n",
      " min idx: 0\n",
      " max idx: 2238\n",
      "Some indices are missing.\n",
      "79 indices are missing:\n",
      "2019 5\n",
      " length: 3792\n",
      " min idx: 0\n",
      " max idx: 2323\n",
      "Some indices are missing.\n",
      "1060 indices are missing:\n",
      "2019 1\n",
      " length: 303\n",
      " min idx: 12\n",
      " max idx: 850\n",
      "Some indices are missing.\n",
      "738 indices are missing:\n",
      "2019 7\n",
      " length: 1578\n",
      " min idx: 0\n",
      " max idx: 540\n",
      "Some indices are missing.\n",
      "15 indices are missing:\n",
      "2018 9\n",
      " length: 3\n",
      " min idx: 2018\n",
      " max idx: 2018\n",
      "Some indices are missing.\n",
      "0 indices are missing:\n",
      "2017 9\n",
      " length: 3\n",
      " min idx: 2017\n",
      " max idx: 2017\n",
      "Some indices are missing.\n",
      "0 indices are missing:\n"
     ]
    }
   ],
   "source": [
    "path = \"/home/vatsal/NWM/CasCast/latent_data/earthformer_example/test_2h\"\n",
    "import os\n",
    "dict_files = {}\n",
    "for filename in os.listdir(path):\n",
    "    year = None\n",
    "    for y in [\"2017\", \"2018\", \"2019\"]:\n",
    "        if y in filename:\n",
    "            year = y\n",
    "            break\n",
    "    if year is None:\n",
    "        print(f\"Year not found in {filename}\")\n",
    "        year = \"unknown\"\n",
    "        continue\n",
    "    idx = filename.split(\".\")[-2].split(\"-\")[1]\n",
    "    filename = filename.split(\".\")[-3]\n",
    "    month = filename.split(\"_\")[-2][1]\n",
    "    \n",
    "    dict_files[year + \" \" + month] = dict_files.get(year + \" \" + month, [])\n",
    "    dict_files[year + \" \" + month].append(int(idx))\n",
    "from pprint import pprint\n",
    "for key, value in dict_files.items():\n",
    "    print(f\"{key}\")\n",
    "    print(f\" length: {len(value)}\")\n",
    "    print(f\" min idx: {min(value)}\")\n",
    "    print(f\" max idx: {max(value)}\")\n",
    "    values = sorted(value)\n",
    "    r = range(min(values), max(values) + 1)\n",
    "    if list(r) == values:\n",
    "        print(\"All indices are present.\")\n",
    "    else:\n",
    "        print(\"Some indices are missing.\")\n",
    "        missing = set(r) - set(values)\n",
    "        print(len(missing), \"indices are missing:\")"
   ]
  },
  {
   "cell_type": "code",
   "execution_count": 7,
   "id": "dea57f2d",
   "metadata": {},
   "outputs": [
    {
     "data": {
      "text/plain": [
       "False"
      ]
     },
     "execution_count": 7,
     "metadata": {},
     "output_type": "execute_result"
    }
   ],
   "source": [
    "import os\n",
    "os.path.exists('pixel_data/test_2h/vil-2019-SEVIR_VIL_RANDOMEVENTS_2019_0501_0831.h5-0-0.npy')"
   ]
  },
  {
   "cell_type": "code",
   "execution_count": 5,
   "id": "f70586ba",
   "metadata": {},
   "outputs": [
    {
     "name": "stdout",
     "output_type": "stream",
     "text": [
      "(384, 384, 25)\n"
     ]
    }
   ],
   "source": [
    "path = \"/home/vatsal/NWM/CasCast/pixel_data/train_2h/vil-2019-SEVIR_VIL_RANDOMEVENTS_2019_0901_1231-886-1.npy\"\n",
    "import h5py\n",
    "import numpy as np\n",
    "import matplotlib.pyplot as plt\n",
    "\n",
    "data = np.load(path)\n",
    "print(data.shape)"
   ]
  },
  {
   "cell_type": "code",
   "execution_count": null,
   "id": "98adba60",
   "metadata": {},
   "outputs": [],
   "source": [
    "import shutil\n",
    "import os\n",
    "\n",
    "from_path = \"/home/vatsal/NWM/CasCast/pixel_data/test_2h\"\n",
    "to_path = \"/home/vatsal/NWM/CasCast/pixel_data/train_2h\"\n",
    "to_path2 = \"/home/vatsal/NWM/CasCast/pixel_data/valid_2h\"\n",
    "files = [f for f in os.listdir(from_path) if f.endswith('.npy')]\n",
    "files = files[:10]  # take first 10 files\n",
    "\n",
    "for f in files:\n",
    "    src = os.path.join(from_path, f)\n",
    "    shutil.copy(src, to_path)\n",
    "    shutil.copy(src, to_path2)"
   ]
  },
  {
   "cell_type": "code",
   "execution_count": 2,
   "id": "6e4621f5",
   "metadata": {},
   "outputs": [],
   "source": [
    "import torch\n",
    "from earthformer.cuboid_transformer.cuboid_transformer import CuboidTransformerModel\n",
    "from omegaconf import OmegaConf\n",
    "def get_model_config():\n",
    "    cfg = OmegaConf.create()\n",
    "    height = 384\n",
    "    width = 384\n",
    "    in_len = 13\n",
    "    out_len = 12\n",
    "    data_channels = 1\n",
    "    cfg.input_shape = (in_len, height, width, data_channels)\n",
    "    cfg.target_shape = (out_len, height, width, data_channels)\n",
    "\n",
    "    cfg.base_units = 64\n",
    "    cfg.block_units = None # multiply by 2 when downsampling in each layer\n",
    "    cfg.scale_alpha = 1.0\n",
    "\n",
    "    cfg.enc_depth = [1, 1]\n",
    "    cfg.dec_depth = [1, 1]\n",
    "    cfg.enc_use_inter_ffn = True\n",
    "    cfg.dec_use_inter_ffn = True\n",
    "    cfg.dec_hierarchical_pos_embed = True\n",
    "\n",
    "    cfg.downsample = 2\n",
    "    cfg.downsample_type = \"patch_merge\"\n",
    "    cfg.upsample_type = \"upsample\"\n",
    "\n",
    "    cfg.num_global_vectors = 8\n",
    "    cfg.use_dec_self_global = True\n",
    "    cfg.dec_self_update_global = True\n",
    "    cfg.use_dec_cross_global = True\n",
    "    cfg.use_global_vector_ffn = True\n",
    "    cfg.use_global_self_attn = False\n",
    "    cfg.separate_global_qkv = False\n",
    "    cfg.global_dim_ratio = 1\n",
    "\n",
    "    cfg.self_pattern = 'axial'\n",
    "    cfg.cross_self_pattern = 'axial'\n",
    "    cfg.cross_pattern = 'cross_1x1'\n",
    "    cfg.dec_cross_last_n_frames = None\n",
    "\n",
    "    cfg.attn_drop = 0.1\n",
    "    cfg.proj_drop = 0.1\n",
    "    cfg.ffn_drop = 0.1\n",
    "    cfg.num_heads = 4\n",
    "\n",
    "    cfg.ffn_activation = 'gelu'\n",
    "    cfg.gated_ffn = False\n",
    "    cfg.norm_layer = 'layer_norm'\n",
    "    cfg.padding_type = 'zeros'\n",
    "    cfg.pos_embed_type = \"t+hw\"\n",
    "    cfg.use_relative_pos = True\n",
    "    cfg.self_attn_use_final_proj = True\n",
    "    cfg.dec_use_first_self_attn = False\n",
    "\n",
    "    cfg.z_init_method = 'zeros'\n",
    "    cfg.checkpoint_level = 2\n",
    "    # initial downsample and final upsample\n",
    "    cfg.initial_downsample_type = \"stack_conv\"\n",
    "    cfg.initial_downsample_activation = \"leaky\"\n",
    "    cfg.initial_downsample_stack_conv_num_layers = 3\n",
    "    cfg.initial_downsample_stack_conv_dim_list = [4, 16, cfg.base_units]\n",
    "    cfg.initial_downsample_stack_conv_downscale_list = [3, 2, 2]\n",
    "    cfg.initial_downsample_stack_conv_num_conv_list = [2, 2, 2]\n",
    "    # initialization\n",
    "    cfg.attn_linear_init_mode = \"0\"\n",
    "    cfg.ffn_linear_init_mode = \"0\"\n",
    "    cfg.conv_init_mode = \"0\"\n",
    "    cfg.down_up_linear_init_mode = \"0\"\n",
    "    cfg.norm_init_mode = \"0\"\n",
    "    return cfg\n",
    "model_cfg = get_model_config()\n",
    "num_blocks = len(model_cfg[\"enc_depth\"])\n",
    "if isinstance(model_cfg[\"self_pattern\"], str):\n",
    "    enc_attn_patterns = [model_cfg[\"self_pattern\"]] * num_blocks\n",
    "else:\n",
    "    enc_attn_patterns = OmegaConf.to_container(model_cfg[\"self_pattern\"])\n",
    "if isinstance(model_cfg[\"cross_self_pattern\"], str):\n",
    "    dec_self_attn_patterns = [model_cfg[\"cross_self_pattern\"]] * num_blocks\n",
    "else:\n",
    "    dec_self_attn_patterns = OmegaConf.to_container(model_cfg[\"cross_self_pattern\"])\n",
    "if isinstance(model_cfg[\"cross_pattern\"], str):\n",
    "    dec_cross_attn_patterns = [model_cfg[\"cross_pattern\"]] * num_blocks\n",
    "else:\n",
    "    dec_cross_attn_patterns = OmegaConf.to_container(model_cfg[\"cross_pattern\"])\n",
    "\n",
    "model = CuboidTransformerModel(\n",
    "    input_shape=model_cfg[\"input_shape\"],\n",
    "    target_shape=model_cfg[\"target_shape\"],\n",
    "    base_units=model_cfg[\"base_units\"],\n",
    "    block_units=model_cfg[\"block_units\"],\n",
    "    scale_alpha=model_cfg[\"scale_alpha\"],\n",
    "    enc_depth=model_cfg[\"enc_depth\"],\n",
    "    dec_depth=model_cfg[\"dec_depth\"],\n",
    "    enc_use_inter_ffn=model_cfg[\"enc_use_inter_ffn\"],\n",
    "    dec_use_inter_ffn=model_cfg[\"dec_use_inter_ffn\"],\n",
    "    dec_hierarchical_pos_embed=model_cfg[\"dec_hierarchical_pos_embed\"],\n",
    "    downsample=model_cfg[\"downsample\"],\n",
    "    downsample_type=model_cfg[\"downsample_type\"],\n",
    "    enc_attn_patterns=enc_attn_patterns,\n",
    "    dec_self_attn_patterns=dec_self_attn_patterns,\n",
    "    dec_cross_attn_patterns=dec_cross_attn_patterns,\n",
    "    dec_cross_last_n_frames=model_cfg[\"dec_cross_last_n_frames\"],\n",
    "    dec_use_first_self_attn=model_cfg[\"dec_use_first_self_attn\"],\n",
    "    num_heads=model_cfg[\"num_heads\"],\n",
    "    attn_drop=model_cfg[\"attn_drop\"],\n",
    "    proj_drop=model_cfg[\"proj_drop\"],\n",
    "    ffn_drop=model_cfg[\"ffn_drop\"],\n",
    "    upsample_type=model_cfg[\"upsample_type\"],\n",
    "    ffn_activation=model_cfg[\"ffn_activation\"],\n",
    "    gated_ffn=model_cfg[\"gated_ffn\"],\n",
    "    norm_layer=model_cfg[\"norm_layer\"],\n",
    "    # global vectors\n",
    "    num_global_vectors=model_cfg[\"num_global_vectors\"],\n",
    "    use_dec_self_global=model_cfg[\"use_dec_self_global\"],\n",
    "    dec_self_update_global=model_cfg[\"dec_self_update_global\"],\n",
    "    use_dec_cross_global=model_cfg[\"use_dec_cross_global\"],\n",
    "    use_global_vector_ffn=model_cfg[\"use_global_vector_ffn\"],\n",
    "    use_global_self_attn=model_cfg[\"use_global_self_attn\"],\n",
    "    separate_global_qkv=model_cfg[\"separate_global_qkv\"],\n",
    "    global_dim_ratio=model_cfg[\"global_dim_ratio\"],\n",
    "    # initial_downsample\n",
    "    initial_downsample_type=model_cfg[\"initial_downsample_type\"],\n",
    "    initial_downsample_activation=model_cfg[\"initial_downsample_activation\"],\n",
    "    # initial_downsample_type==\"stack_conv\"\n",
    "    initial_downsample_stack_conv_num_layers=model_cfg[\"initial_downsample_stack_conv_num_layers\"],\n",
    "    initial_downsample_stack_conv_dim_list=model_cfg[\"initial_downsample_stack_conv_dim_list\"],\n",
    "    initial_downsample_stack_conv_downscale_list=model_cfg[\"initial_downsample_stack_conv_downscale_list\"],\n",
    "    initial_downsample_stack_conv_num_conv_list=model_cfg[\"initial_downsample_stack_conv_num_conv_list\"],\n",
    "    # misc\n",
    "    padding_type=model_cfg[\"padding_type\"],\n",
    "    z_init_method=model_cfg[\"z_init_method\"],\n",
    "    checkpoint_level=model_cfg[\"checkpoint_level\"],\n",
    "    pos_embed_type=model_cfg[\"pos_embed_type\"],\n",
    "    use_relative_pos=model_cfg[\"use_relative_pos\"],\n",
    "    self_attn_use_final_proj=model_cfg[\"self_attn_use_final_proj\"],\n",
    "    # initialization\n",
    "    attn_linear_init_mode=model_cfg[\"attn_linear_init_mode\"],\n",
    "    ffn_linear_init_mode=model_cfg[\"ffn_linear_init_mode\"],\n",
    "    conv_init_mode=model_cfg[\"conv_init_mode\"],\n",
    "    down_up_linear_init_mode=model_cfg[\"down_up_linear_init_mode\"],\n",
    "    norm_init_mode=model_cfg[\"norm_init_mode\"],\n",
    ")\n"
   ]
  },
  {
   "cell_type": "code",
   "execution_count": 3,
   "id": "c6deb8f2",
   "metadata": {},
   "outputs": [
    {
     "ename": "RuntimeError",
     "evalue": "Error(s) in loading state_dict for CuboidTransformerModel:\n\tMissing key(s) in state_dict: \"encoder.blocks.0.0.global_ffn_l.0.ffn_1.weight\", \"encoder.blocks.0.0.global_ffn_l.0.ffn_1.bias\", \"encoder.blocks.0.0.global_ffn_l.0.ffn_2.weight\", \"encoder.blocks.0.0.global_ffn_l.0.ffn_2.bias\", \"encoder.blocks.0.0.global_ffn_l.0.layer_norm.weight\", \"encoder.blocks.0.0.global_ffn_l.0.layer_norm.bias\", \"encoder.blocks.0.0.global_ffn_l.1.ffn_1.weight\", \"encoder.blocks.0.0.global_ffn_l.1.ffn_1.bias\", \"encoder.blocks.0.0.global_ffn_l.1.ffn_2.weight\", \"encoder.blocks.0.0.global_ffn_l.1.ffn_2.bias\", \"encoder.blocks.0.0.global_ffn_l.1.layer_norm.weight\", \"encoder.blocks.0.0.global_ffn_l.1.layer_norm.bias\", \"encoder.blocks.0.0.global_ffn_l.2.ffn_1.weight\", \"encoder.blocks.0.0.global_ffn_l.2.ffn_1.bias\", \"encoder.blocks.0.0.global_ffn_l.2.ffn_2.weight\", \"encoder.blocks.0.0.global_ffn_l.2.ffn_2.bias\", \"encoder.blocks.0.0.global_ffn_l.2.layer_norm.weight\", \"encoder.blocks.0.0.global_ffn_l.2.layer_norm.bias\", \"encoder.blocks.0.0.attn_l.0.global_qkv.weight\", \"encoder.blocks.0.0.attn_l.1.global_qkv.weight\", \"encoder.blocks.0.0.attn_l.2.global_qkv.weight\", \"encoder.blocks.1.0.global_ffn_l.0.ffn_1.weight\", \"encoder.blocks.1.0.global_ffn_l.0.ffn_1.bias\", \"encoder.blocks.1.0.global_ffn_l.0.ffn_2.weight\", \"encoder.blocks.1.0.global_ffn_l.0.ffn_2.bias\", \"encoder.blocks.1.0.global_ffn_l.0.layer_norm.weight\", \"encoder.blocks.1.0.global_ffn_l.0.layer_norm.bias\", \"encoder.blocks.1.0.global_ffn_l.1.ffn_1.weight\